{
  "nbformat": 4,
  "nbformat_minor": 0,
  "metadata": {
    "colab": {
      "provenance": [],
      "authorship_tag": "ABX9TyNvByf07VsquUUAp12T6box",
      "include_colab_link": true
    },
    "kernelspec": {
      "name": "python3",
      "display_name": "Python 3"
    },
    "language_info": {
      "name": "python"
    }
  },
  "cells": [
    {
      "cell_type": "markdown",
      "metadata": {
        "id": "view-in-github",
        "colab_type": "text"
      },
      "source": [
        "<a href=\"https://colab.research.google.com/github/dechickannabella/Deliverable_1/blob/master/deliverable8.ipynb\" target=\"_parent\"><img src=\"https://colab.research.google.com/assets/colab-badge.svg\" alt=\"Open In Colab\"/></a>"
      ]
    },
    {
      "cell_type": "markdown",
      "source": [],
      "metadata": {
        "id": "28RQZdnOZkm0"
      }
    },
    {
      "cell_type": "code",
      "source": [
        "# Name: AnnaBella DeChick\n",
        "# Date: 3/23/2023\n",
        "# Project: deliverable 8, a Python replication of part of our past deliverable 4 "
      ],
      "metadata": {
        "id": "iSB3UC4WZwQL"
      },
      "execution_count": 9,
      "outputs": []
    },
    {
      "cell_type": "code",
      "source": [
        "import numpy as np"
      ],
      "metadata": {
        "id": "L_NFZTf8aB-M"
      },
      "execution_count": 10,
      "outputs": []
    },
    {
      "cell_type": "code",
      "source": [
        "# Define Method #1\n",
        "def random_list(size): # Establishing the list randomizer \n",
        "  list = []\n",
        "  for i in range(size):\n",
        "    list.append(np.random.randint(10,50))\n",
        "    return list \n",
        "\n",
        "# Defining Method #2\n",
        "def sum_random (list): # Establishing the sum calculation \n",
        "  sum = 0 \n",
        "  for i in range(len(list)):\n",
        "    sum = sum + list[i]\n",
        "    return sum "
      ],
      "metadata": {
        "id": "RACw68oEaF44"
      },
      "execution_count": 11,
      "outputs": []
    },
    {
      "cell_type": "code",
      "source": [
        "n = int(input(\"Enter an integer between 5 and 15: \"))\n",
        "\n",
        "while True: \n",
        "    if n>=5 and n<=15: \n",
        "      MyList = random_list(n)\n",
        "      print(\"The elements of the array are: \")\n",
        "      print(MyList)\n",
        "      MySum = sum_random(MyList)\n",
        "      print(\"The sum is: \")\n",
        "      print(MySum)\n",
        "    else: \n",
        "        print(\"Invalid, the entered integer is not between 5 and 15. Please run the program again.\")\n",
        "    break "
      ],
      "metadata": {
        "id": "GXWhGCOtmE7X"
      },
      "execution_count": null,
      "outputs": []
    }
  ]
}